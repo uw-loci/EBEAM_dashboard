{
 "cells": [
  {
   "cell_type": "code",
   "execution_count": 16,
   "metadata": {},
   "outputs": [],
   "source": [
    "def extract_safety_input_flags(byte_string):\n",
    "    # Ensure input is at least two bytes for Si 00 to Si 13\n",
    "    if len(byte_string) < 2:\n",
    "        raise ValueError(\"Input must contain at least 2 bytes\")\n",
    "\n",
    "    # Extract Si 00 to Si 07 from byte 0, reverse order\n",
    "    byte_0 = byte_string[0]\n",
    "    si_00_to_si_07 = [((byte_0 >> i) & 1) for i in range(7, -1, -1)]\n",
    "\n",
    "    # Extract Si 08 to Si 13 from byte 1, reverse order for the first 6 bits\n",
    "    byte_1 = byte_string[1]\n",
    "    si_08_to_si_13 = [((byte_1 >> i) & 1) for i in range(7, -1, -1)]\n",
    "\n",
    "    # Combine results for Si 00 to Si 13\n",
    "    si_00_to_si_13 = si_00_to_si_07[::-1] + si_08_to_si_13[::-1]\n",
    "    print(len(si_00_to_si_07), si_00_to_si_07)\n",
    "    print(len(si_08_to_si_13), si_08_to_si_13)\n",
    "    return si_00_to_si_13\n"
   ]
  },
  {
   "cell_type": "code",
   "execution_count": null,
   "metadata": {},
   "outputs": [],
   "source": [
    "def extract_safety_input_flags(byte_string, num_bits):\n",
    "    num_bytes = (num_bits + 7)\n",
    "    \n",
    "    if len(byte_string) < num_bytes:\n",
    "        raise ValueError(f\"Input must contain at least {num_bytes} bytes\")\n",
    "\n",
    "    extracted_bits = []\n",
    "    for byte_index in range(num_bytes):\n",
    "        byte = byte_string[byte_index]\n",
    "        bits_to_extract = min(8, num_bits - (byte_index * 8))\n",
    "        extracted_bits.extend(((byte >> i) & 1) for i in range(bits_to_extract - 1, -1, -1)[::-1])\n",
    "\n",
    "    return extracted_bits[:num_bits]"
   ]
  },
  {
   "cell_type": "code",
   "execution_count": 21,
   "metadata": {},
   "outputs": [
    {
     "name": "stdout",
     "output_type": "stream",
     "text": [
      "8 [1, 1, 1, 1, 0, 1, 0, 1]\n",
      "8 [0, 0, 0, 1, 0, 1, 1, 0]\n",
      "16 [1, 0, 1, 0, 1, 1, 1, 1, 0, 1, 1, 0, 1]\n"
     ]
    }
   ],
   "source": [
    "# in: 1111010100010110 \\xf5\\x16\n",
    "# out: 1010111101101\n",
    "i = b'\\xf5\\x16'\n",
    "o = extract_safety_input_flags(i)\n",
    "print(len(o), o[:13])"
   ]
  },
  {
   "cell_type": "code",
   "execution_count": 19,
   "metadata": {},
   "outputs": [
    {
     "data": {
      "text/plain": [
       "False"
      ]
     },
     "execution_count": 19,
     "metadata": {},
     "output_type": "execute_result"
    }
   ],
   "source": [
    "o[:] == list(\"1010111101100\")"
   ]
  },
  {
   "cell_type": "code",
   "execution_count": 25,
   "metadata": {},
   "outputs": [
    {
     "data": {
      "text/plain": [
       "[1, 0, 1, 0, 1, 1, 1, 1, 0, 1, 1, 0, 1]"
      ]
     },
     "execution_count": 25,
     "metadata": {},
     "output_type": "execute_result"
    }
   ],
   "source": [
    "extract_safety_input_flags(i, 13)"
   ]
  },
  {
   "cell_type": "code",
   "execution_count": 31,
   "metadata": {},
   "outputs": [
    {
     "data": {
      "text/plain": [
       "199"
      ]
     },
     "execution_count": 31,
     "metadata": {},
     "output_type": "execute_result"
    }
   ],
   "source": [
    "msg = b'@\\x00\\x00\\xc3\\x00\\x00\\xcb\\x00\\x00\\x00\\x00\\xfc\\x0f\\x00\\x00\\x00\\x00E\\x00\\x00\\x00\\xff\\xff\\x0f\\x00\\x00\\x00\\xff\\x00\\x00\\x00\\x00\\x00\\x00\\x00\\x00\\x00\\x00\\x00\\x00\\x00\\x00\\x00\\x00\\x00\\x00\\x00\\x00\\x00\\x00\\x00\\x00\\x00\\x00\\x00\\x00\\x00\\x00\\x00\\x00\\x00\\x00\\x00\\x00\\x00\\x00\\x00\\x00\\x00\\x00\\x00\\x08\\x00\\x12\\x00\\x9a\\x08~\\x15\\x00\\x0020000012X17M\\x00\\x00\\x00\\x00\\x00\\x00\\x00\\x00\\x00\\x00\\x00\\x00\\x00\\x00\\x00@\\x00\\x00\\x00\\x00\\n\\n?\\x00\\x15~?\\x00\\x15l?\\x00\\x15f?\\x00\\x15`?\\x00\\x15`?\\x00\\x15`?\\x00\\x15H?\\x00\\x15H?\\x00\\x15H?\\x00\\x15B\\x06\\x00\\x15f\\x01\\x00\\x15f\\x06\\x00\\x15`\\x01\\x00\\x15`\\x06\\x00\\x15B\\x01\\x00\\x15B\\x06\\x00\\x15B\\x01\\x00\\x15B\\x06\\x00\\x15\\x1e\\x01\\x00\\x15\\x1e\\x14\\xf6*\\r'\n",
    "len(msg)"
   ]
  },
  {
   "cell_type": "code",
   "execution_count": 35,
   "metadata": {},
   "outputs": [
    {
     "data": {
      "text/plain": [
       "b'\\x14\\xf6'"
      ]
     },
     "execution_count": 35,
     "metadata": {},
     "output_type": "execute_result"
    }
   ],
   "source": [
    "check = msg[-4:-2]\n",
    "check"
   ]
  },
  {
   "cell_type": "code",
   "execution_count": null,
   "metadata": {},
   "outputs": [
    {
     "data": {
      "text/plain": [
       "b'\\x1e\\x14\\xf6*\\r'"
      ]
     },
     "execution_count": 28,
     "metadata": {},
     "output_type": "execute_result"
    }
   ],
   "source": []
  },
  {
   "cell_type": "code",
   "execution_count": null,
   "metadata": {},
   "outputs": [],
   "source": []
  }
 ],
 "metadata": {
  "kernelspec": {
   "display_name": "venv",
   "language": "python",
   "name": "python3"
  },
  "language_info": {
   "codemirror_mode": {
    "name": "ipython",
    "version": 3
   },
   "file_extension": ".py",
   "mimetype": "text/x-python",
   "name": "python",
   "nbconvert_exporter": "python",
   "pygments_lexer": "ipython3",
   "version": "3.11.9"
  }
 },
 "nbformat": 4,
 "nbformat_minor": 2
}

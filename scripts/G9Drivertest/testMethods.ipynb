{
 "cells": [
  {
   "cell_type": "code",
   "execution_count": 55,
   "metadata": {},
   "outputs": [],
   "source": [
    "import serial\n",
    "import threading\n",
    "import time\n",
    "from utils import LogLevel\n",
    "import os\n",
    "from subsystem import interlocks\n",
    "\n",
    "inStatus = {\n",
    "    0: \"No error\",\n",
    "    1: \"Invalid configuration\",\n",
    "    2: 'External test signal failure',\n",
    "    3: 'Internal circuit error',\n",
    "    4: 'Discrepancy error',\n",
    "    5: 'Failure of the associated dual-channel input'\n",
    "}\n",
    "\n",
    "outStatus = {\n",
    "    0: 'No error',\n",
    "    1: 'Invalid configuration',\n",
    "    2: 'Overcurrent detection',\n",
    "    3: 'Short circuit detection',\n",
    "    4: 'Stuck-at-high detection',\n",
    "    5: 'Failure of the associated dual-channel output',\n",
    "    6: 'Internal circuit error',\n",
    "    8: 'Dual channel violation'\n",
    "}\n",
    "\n",
    "usStatus = {\n",
    "    9: \"Output Power Supply Error Flag\",\n",
    "    10: \"Safety I/O Terminal Error Flag\",\n",
    "    13: \"Function Block Error Flag\"\n",
    "}\n",
    "\n",
    "\n",
    "\n",
    "class G9Driver:\n",
    "    #TODO: Return to this and check if these parms are good by default\n",
    "    def __init__(self, port=None, baudrate=9600, timeout=0.5, logger=None, debug_mode=False):\n",
    "        if port:\n",
    "            self.ser = serial.Serial(port, baudrate, parity=serial.PARITY_EVEN, stopbits=serial.STOPBITS_ONE, bytesize=serial.EIGHTBITS, timeout=timeout)\n",
    "        self.debug_mode = debug_mode\n",
    "        self.logger = logger\n",
    "        self.lastResponse = None\n",
    "        self.msgOptData = None\n",
    "\n",
    "\n",
    "    #TODO: send query for data\n",
    "    #TODO: decided if we want to store command args in here (like with a dict) or if we should do it in the callee file\n",
    "    def send_command(self):\n",
    "        # TODO: frontend topic : decided how we want to display the exception\n",
    "        if not self.is_connected():\n",
    "            raise ConnectionError(\"Seiral Port is Not Open.\")\n",
    "        header = b'\\x40\\x00\\x00\\x0F\\x4B\\x03\\x4D\\x00\\x01' # could also use bytes.fromhex() method in future for simplicity\n",
    "        data = b'\\x00\\x00\\x00\\x00\\x00\\x00'\n",
    "        self.msgOptData = data\n",
    "        checksum = self.calculate_checksum(header + data, 0 , len(header + data))\n",
    "        cs = b'\\x00' + checksum if len(checksum) == 1 else checksum\n",
    "        footer = b'\\x2A\\x0D' \n",
    "        self.ser(header + data + cs + footer)\n",
    "\n",
    "        self.response()\n",
    "\n",
    "    # used mainly for the check sum but can also be used to check for error flags\n",
    "    # needs an input of a byte string and the range of bytes that need to be sum\n",
    "    # will return the sum of the bytes in the a byte string in the form of b'\\x12'\n",
    "    def calculate_checksum(self, byteString, startByte, endByte):\n",
    "        assert isinstance(byteString, bytes)\n",
    "        return sum(byteString[startByte:endByte + 1]).to_bytes(1, \"big\") \n",
    "\n",
    "    # helper function to convert bytes to bits for checking flags\n",
    "    # not currently being used but many be helpful in the future for getting errors\n",
    "    def bytes_to_binary(self, byte_string):\n",
    "        return ''.join(format(byte, '08b') for byte in byte_string)\n",
    "    \n",
    "    # this method is made to check the error flags, right not only checks the last 13 bits\n",
    "    # of a byte string\n",
    "    def check_flags13(self, byteString, norm = 1):\n",
    "        assert isinstance(byteString, bytes)\n",
    "        # this is for if we only need the last 13 bits (more or less hardcoding this \n",
    "        # just including the rest if it might be helpful in the future\n",
    "        if int(self.bytes_to_binary(byteString)[-13:], 2) >= (13 * norm):\n",
    "            # all flags we care about are 1\n",
    "            return True\n",
    "        else:\n",
    "            return False\n",
    "\n",
    "\n",
    "\n",
    "    #TODO: how do we want to handle the data \n",
    "    def response(self):\n",
    "        if not self.is_connected():\n",
    "            raise ConnectionError(\"Seiral Port is Not Open.\")\n",
    "        \n",
    "        data = self.ser.read(size=199)\n",
    "        self.lastResponse = data\n",
    "        if len(data) == 199:\n",
    "            alwaysHeader = data[0:3]\n",
    "            alwaysFooter = data[-2:]\n",
    "            print(alwaysFooter, alwaysHeader)\n",
    "            if alwaysHeader != b'\\x40\\x00\\x00' or alwaysFooter != b'\\x2A\\x0D':\n",
    "                raise ValueError(\"Always bits are incorrect\")\n",
    "            OCTD = data[7:11]\n",
    "            print(\"OCTD: \", OCTD)\n",
    "            if OCTD != self.msgOptData:\n",
    "                raise ValueError(\"Optional Transmission data doesn't match data sent to the G9SP\")\n",
    "\n",
    "\n",
    "            SITDF = data[11:17]\n",
    "            if not self.check_flags13(SITDF):\n",
    "                #TODO: add a function to check which input\n",
    "                raise ValueError(\"An input is either off or throwing an error\")\n",
    "\n",
    "\n",
    "            SOTDF = data[17:21]\n",
    "            if not self.check_flags13(SOTDF):\n",
    "                #TODO: add a function to check which output\n",
    "                raise ValueError(\"An output is either off or throwing an error\")\n",
    "\n",
    "\n",
    "            SITSF = data[21:27]\n",
    "            if not self.check_flags13(SITSF):\n",
    "                if self.safety_in_terminal_error(data[31:55]):\n",
    "                    raise ValueError(\"Error was detected in inputs but was not found\")\n",
    "                \n",
    "            SOTSF = data[27:31]\n",
    "            if not self.check_flags13(SOTSF):\n",
    "                if self.safety_out_terminal_error(data[55:71]):\n",
    "                    raise ValueError(\"Error was detected in outputs but was not found\")\n",
    "                \n",
    "\n",
    "            # US - Unit Status\n",
    "            US = data[73:75]\n",
    "            print(\"US: \", US)\n",
    "            if US != 0:\n",
    "                if self.unit_state_error(US):\n",
    "                    raise ValueError(\"Error was detected in Unit State but was not identified. Could be more than one\")\n",
    "                \n",
    "            \n",
    "            # # TODO: Need to add error log\n",
    "            # errorLog = data[108:149]\n",
    "\n",
    "            # # TODO: Need to add operation log\n",
    "            # operationLog = data[148:199]\n",
    "                \n",
    "        else:\n",
    "            self.sendCommand()\n",
    "\n",
    "        pass\n",
    "\n",
    "\n",
    "    \"\"\"\n",
    "    0: No error\n",
    "    1: Invalid configuration\n",
    "    2: External test signal failure\n",
    "    3: Internal circuit error\n",
    "    4: Discrepancy error\n",
    "    5: Failure of the associated dual-channel input\n",
    "    \"\"\"\n",
    "\n",
    "    # checks all the SITSFs, throws error is one is found\n",
    "    def safety_in_terminal_error(self, data):\n",
    "        if len(data) != 24:\n",
    "            raise ValueError(f\"Expected 24 bytes, but received {len(data)}.\")\n",
    "\n",
    "        last_bytes = data[-13:]\n",
    "        last_bytes = last_bytes[::-1]\n",
    "\n",
    "        for i, byte in enumerate(last_bytes):\n",
    "            msb = byte >> 4  # most sig bits\n",
    "            lsb = byte & 0x0F  # least sig bits\n",
    "\n",
    "            # check high bits for errors\n",
    "            if msb in inStatus and msb != 0:\n",
    "                raise ValueError(f\"Error at byte {i}H, MSB: {inStatus[msb]} (code {msb})\")\n",
    "            # check low bits for errors\n",
    "            if lsb in inStatus and lsb != 0:\n",
    "                raise ValueError(f\"Error at byte {i}L, LSB: {inStatus[lsb]} (code {lsb})\")\n",
    "        return True\n",
    "        \n",
    "\n",
    "\n",
    "    \"\"\"\n",
    "    0: No error\n",
    "    1: Invalid configuration\n",
    "    2: Overcurrent detection\n",
    "    3: Short circuit detection\n",
    "    4: Stuck-at-high detection\n",
    "    5: Failure of the associated dual-channel output\n",
    "    6: Internal circuit error\n",
    "    8: Dual channel violation\n",
    "    \"\"\"\n",
    "\n",
    "    # checks all the SOTSFs, throws error is one is found \n",
    "    def safety_out_terminal_error(self, data, inputs = 13):\n",
    "        if len(data) != 16:\n",
    "            raise ValueError(f\"Expected 16 bytes, but received {len(data)}.\")\n",
    "\n",
    "        # only keep needs bytes\n",
    "        last_bytes = data[-inputs:]\n",
    "        # flip direction so enumerate can if us the byte number in the error\n",
    "        last_bytes = last_bytes[::-1]\n",
    "\n",
    "        for i, byte in enumerate(last_bytes):\n",
    "            msb = byte >> 4  # most sig bits\n",
    "            lsb = byte & 0x0F  # least sig bits\n",
    "\n",
    "            # check high bits for errors\n",
    "            if msb in outStatus and msb != 0:\n",
    "                raise ValueError(f\"Error at byte {i}H, MSB: {outStatus[msb]} (code {msb})\")\n",
    "            # check low bits for errors\n",
    "            if lsb in outStatus and lsb != 0:\n",
    "                raise ValueError(f\"Error at byte {i}L, LSB: {outStatus[lsb]} (code {lsb})\")\n",
    "        return True\n",
    "    \n",
    "    \"\"\"\n",
    "    bit position: error\n",
    "    0: Normal Operation Error Flag\n",
    "    9: Output Power Supply Error Flag\n",
    "    10: Safety I/O Terminal Error Flag\n",
    "    13: Function Block Error Flag\n",
    "    \"\"\"\n",
    "    \n",
    "    # rn am hoping that only one of the error flags can be set at a time\n",
    "    def unit_state_error(self, data):\n",
    "        if len(data) != 2:\n",
    "            raise ValueError(f\"Expected 2 bytes, but received {len(data)}.\")\n",
    "        \n",
    "        bits = self.bytes_to_binary(data)\n",
    "\n",
    "        if bits[-1] == \"0\":\n",
    "            raise ValueError(f\"Unit State Error: Normal Operation Error Flag (bit 0)\")\n",
    "        \n",
    "        for k in usStatus.keys():\n",
    "            if bits[-(k + 1)] == \"1\":\n",
    "                raise ValueError(f\"Unit State Error: {usStatus[k]} (bit {k})\")\n",
    "\n",
    "\n",
    "    #TODO: Check to see if the G9 switch is allowing high Voltage or not\n",
    "    # this function will need to be constantly sending requests/receiving to check when the high voltage is off/on\n",
    "    def checkStatus():\n",
    "        pass\n",
    "\n",
    "    def flush_serial(self):\n",
    "        self.ser.reset_input_buffer()\n",
    "\n",
    "\n",
    "    #TODO: make funtion to turn all interlocks to red\n",
    "    def is_connected(self):\n",
    "        try:\n",
    "            #TODO: check if this works with G9 copied from Power Supply Driver\n",
    "            # Attempt to write a simple command to the device\n",
    "            self.ser.write(b'\\r')  # Send a carriage return\n",
    "            # Try to read a response (there might not be one)\n",
    "            self.ser.read(1)\n",
    "\n",
    "            self.isConnected = True\n",
    "            return True\n",
    "        except serial.SerialException:\n",
    "            return False\n",
    "        \n",
    "\n",
    "    #TODO: Figure out how to handle all the errors (end task)\n",
    "    #TODO: add a function to keep track of the driver uptime\n"
   ]
  },
  {
   "cell_type": "code",
   "execution_count": 56,
   "metadata": {},
   "outputs": [],
   "source": [
    "_ = G9Driver()\n",
    "\n",
    "res = b'\\x40\\x00\\x00\\xc3\\x00\\x00\\xcb\\x00\\x00\\x00\\x00\\xff\\x0f\\x00\\x00\\x00\\x00$\\x00\\x00\\x00\\xff\\xff\\x0f\\x00\\x00\\x00\\xff\\x00\\x00\\x00\\x00\\x00\\x00\\x00\\x00\\x00\\x00\\x00\\x00\\x00\\x00\\x00\\x00\\x00\\x00\\x00\\x00\\x00\\x00\\x00\\x00\\x00\\x00\\x00\\x00\\x00\\x00\\x00\\x00\\x00\\x00\\x00\\x00\\x00\\x00\\x00\\x00\\x00\\x00\\x00\\x08\\x00\\x12\\x00\\x9a\\x08\\xac\\x14\\x00\\x0020000012X17M\\x00\\x00\\x00\\x00\\x00\\x00\\x00\\x00\\x00\\x00\\x00\\x00\\x00\\x00\\x00@\\x00\\x00\\x00\\x00\\n\\n?\\x00\\x14\\xac?\\x00\\x14\\xac?\\x00\\x14\\xa0?\\x00\\x14\\xa0?\\x00\\x14\\xa0?\\x00\\x14\\xa0?\\x00\\x14\\xa0?\\x00\\x14\\x9a?\\x00\\x14\\x9a\\x13\\x00\\x14\\x9a\\x06\\x00\\x14\\x9a\\x01\\x00\\x14\\x9a\\x01\\x00\\x14\\x9a\\x06\\x00\\x14\\x9a\\x04\\x00\\x14\\x9a\\x01\\x00\\x14\\x9a\\x06\\x00\\x14p\\x01\\x00\\x14p\\x06\\x00\\x14p\\x06\\x00\\x14^\\x19\\xfe\\x2A\\x0D'"
   ]
  },
  {
   "cell_type": "markdown",
   "metadata": {},
   "source": [
    "@\n",
    "\\x00\\x00\n",
    "\\xc3\n",
    "\\x00\\x00\n",
    "\\xcb\n",
    "\\x00\\x00\\x00\\x00\\xff\\x0f\\x00\\x00\\x00\\x00$\\x00\\x00\\x00\\xff\\xff\\x0f\\x00\\x00\\x00\\xff\\x00\\x00\\x00\\x00\\x00\\x00\\x00\\x00\\x00\\x00\\x00\\x00\\x00\\x00\\x00\\x00\\x00\\x00\\x00\\x00\\x00\\x00\\x00\\x00\\x00\\x00\\x00\\x00\\x00\\x00\\x00\\x00\\x00\\x00\\x00\\x00\\x00\\x00\\x00\\x00\\x00\\x00\\x00\\x08\\x00\\x12\\x00\\x9a\\x08\\xac\\x14\\x00\\x0020000012X17M\\x00\\x00\\x00\\x00\\x00\\x00\\x00\\x00\\x00\\x00\\x00\\x00\\x00\\x00\\x00@\\x00\\x00\\x00\\x00\\n\\n?\\x00\\x14\\xac?\\x00\\x14\\xac?\\x00\\x14\\xa0?\\x00\\x14\\xa0?\\x00\\x14\\xa0?\\x00\\x14\\xa0?\\x00\\x14\\xa0?\\x00\\x14\\x9a?\\x00\\x14\\x9a\\x13\\x00\\x14\\x9a\\x06\\x00\\x14\\x9a\\x01\\x00\\x14\\x9a\\x01\\x00\\x14\\x9a\\x06\\x00\\x14\\x9a\\x04\\x00\\x14\\x9a\\x01\\x00\\x14\\x9a\\x06\\x00\\x14p\\x01\\x00\\x14p\\x06\\x00\\x14p\\x06\\x00\\x14^\\x19\n",
    "\\xfe\n",
    "*\n",
    "\n",
    "Always \n",
    "40\n",
    "0000\n",
    "Response length:\n",
    "c3\n",
    "End Code:\n",
    "0000\n",
    "Service Code:\n",
    "cb\n",
    "Data:\n",
    "OCTD - \\x00\\x00\\x00\\x00\n",
    "SITDF - \\xff\\x0f\\x00\\x00\\x00\\x00\n",
    "SOTDF - $\\x00\\x00\\x00\n",
    "SITSF - \\xff\\xff\\x0f\\x00\\x00\\x00\n",
    "SOTSF - \\xff\\x00\\x00\\x00\n",
    "Input causes - \\x00\\x00\\x00\\x00\\x00\\x00\\x00\\x00\\x00\\x00\\x00\\x00\\x00\\x00\\x00\\x00\\x00\\x00\\x00\\x00\\x00\\x00\\x00\\x00\n",
    "Output Causes - \\x00\\x00\\x00\\x00\\x00\\x00\\x00\\x00\\x00\\x00\\x00\\x00\\x00\\x00\\x00\\x00\n",
    "Reserved - \\x08\\x00\n",
    "Unit Status - \\x12\\x00\n",
    "ID - \\x9a\\x08\n",
    "Unit Conduct time - \\xac\\x14\\x00\\x00\n",
    "Reserve2 - 20000012X17M\\x00\\x00\\x00\\x00\\x00\\x00\\x00\\x00\n",
    "Persent err - \\x00\\x00\\x00\\x00\\x00\\x00\\x00@\\x00\\x00\\x00\\x00\n",
    "err cnt - \\n\n",
    "ope cnt - \\n\n",
    "Error - ?\\x00\\x14\\xac?\\x00\\x14\\xac?\\x00\\x14\\xa0?\\x00\\x14\\xa0?\\x00\\x14\\xa0?\\x00\\x14\\xa0?\\x00\\x14\\xa0?\\x00\\x14\\x9a?\\x00\\x14\\x9a\\x13\\x00\\x14\\x9a\n",
    "Operation -  \\x06\\x00\\x14\\x9a\\x01\\x00\\x14\\x9a\\x01\\x00\\x14\\x9a\\x06\\x00\\x14\\x9a\\x04\\x00\\x14\\x9a\\x01\\x00\\x14\\x9a\\x06\\x00\\x14p\\x01\\x00\\x14p\\x06\\x00\\x14p\\x06\\x00\\x14^\n",
    "\n",
    "\n",
    "Check Sum:\n",
    "19fe\n",
    "Always\n",
    "2a"
   ]
  },
  {
   "cell_type": "code",
   "execution_count": 48,
   "metadata": {},
   "outputs": [
    {
     "name": "stdout",
     "output_type": "stream",
     "text": [
      "b'@\\x00\\x00\\xc3\\x00\\x00\\xcb\\x00\\x00\\x00\\x00\\xff\\x0f\\x00\\x00\\x00\\x00$\\x00\\x00\\x00\\xff\\xff\\x0f\\x00\\x00\\x00\\xff\\x00\\x00\\x00\\x00\\x00\\x00\\x00\\x00\\x00\\x00\\x00\\x00\\x00\\x00\\x00\\x00\\x00\\x00\\x00\\x00\\x00\\x00\\x00\\x00\\x00\\x00\\x00\\x00\\x00\\x00\\x00\\x00\\x00\\x00\\x00\\x00\\x00\\x00\\x00\\x00\\x00\\x00\\x00\\x08\\x00\\x12\\x00\\x9a\\x08\\xac\\x14\\x00\\x0020000012X17M\\x00\\x00\\x00\\x00\\x00\\x00\\x00\\x00\\x00\\x00\\x00\\x00\\x00\\x00\\x00@\\x00\\x00\\x00\\x00\\n\\n?\\x00\\x14\\xac?\\x00\\x14\\xac?\\x00\\x14\\xa0?\\x00\\x14\\xa0?\\x00\\x14\\xa0?\\x00\\x14\\xa0?\\x00\\x14\\xa0?\\x00\\x14\\x9a?\\x00\\x14\\x9a\\x13\\x00\\x14\\x9a\\x06\\x00\\x14\\x9a\\x01\\x00\\x14\\x9a\\x01\\x00\\x14\\x9a\\x06\\x00\\x14\\x9a\\x04\\x00\\x14\\x9a\\x01\\x00\\x14\\x9a\\x06\\x00\\x14p\\x01\\x00\\x14p\\x06\\x00\\x14p\\x06\\x00\\x14^\\x19\\xfe*\\r'\n"
     ]
    }
   ],
   "source": [
    "\n",
    "_.lastResponse = res\n",
    "len(res)\n",
    "print(_.lastResponse)"
   ]
  },
  {
   "cell_type": "code",
   "execution_count": 54,
   "metadata": {},
   "outputs": [
    {
     "data": {
      "text/plain": [
       "b'\\xfc'"
      ]
     },
     "execution_count": 54,
     "metadata": {},
     "output_type": "execute_result"
    }
   ],
   "source": [
    "header = b'\\x40\\x00\\x00\\x0F\\x4B\\x03\\x4D\\x00\\x01' # could also use bytes.fromhex() method in future for simplicity\n",
    "data = b'\\x00\\x00\\x00\\x11\\x00\\x00'\n",
    "\n",
    "cs = _.calculate_checksum(header + data, 0 , len(header + data))\n",
    "cs"
   ]
  },
  {
   "cell_type": "code",
   "execution_count": 42,
   "metadata": {},
   "outputs": [
    {
     "ename": "AttributeError",
     "evalue": "module 'serial' has no attribute 'SerialException'",
     "output_type": "error",
     "traceback": [
      "\u001b[1;31m---------------------------------------------------------------------------\u001b[0m",
      "\u001b[1;31mAttributeError\u001b[0m                            Traceback (most recent call last)",
      "Cell \u001b[1;32mIn[39], line 277\u001b[0m, in \u001b[0;36mG9Driver.is_connected\u001b[1;34m(self)\u001b[0m\n\u001b[0;32m    274\u001b[0m \u001b[38;5;28;01mtry\u001b[39;00m:\n\u001b[0;32m    275\u001b[0m     \u001b[38;5;66;03m#TODO: check if this works with G9 copied from Power Supply Driver\u001b[39;00m\n\u001b[0;32m    276\u001b[0m     \u001b[38;5;66;03m# Attempt to write a simple command to the device\u001b[39;00m\n\u001b[1;32m--> 277\u001b[0m     \u001b[38;5;28;43mself\u001b[39;49m\u001b[38;5;241;43m.\u001b[39;49m\u001b[43mser\u001b[49m\u001b[38;5;241m.\u001b[39mwrite(\u001b[38;5;124mb\u001b[39m\u001b[38;5;124m'\u001b[39m\u001b[38;5;130;01m\\r\u001b[39;00m\u001b[38;5;124m'\u001b[39m)  \u001b[38;5;66;03m# Send a carriage return\u001b[39;00m\n\u001b[0;32m    278\u001b[0m     \u001b[38;5;66;03m# Try to read a response (there might not be one)\u001b[39;00m\n",
      "\u001b[1;31mAttributeError\u001b[0m: 'G9Driver' object has no attribute 'ser'",
      "\nDuring handling of the above exception, another exception occurred:\n",
      "\u001b[1;31mAttributeError\u001b[0m                            Traceback (most recent call last)",
      "Cell \u001b[1;32mIn[42], line 2\u001b[0m\n\u001b[0;32m      1\u001b[0m \u001b[38;5;66;03m# _.response()\u001b[39;00m\n\u001b[1;32m----> 2\u001b[0m \u001b[43m_\u001b[49m\u001b[38;5;241;43m.\u001b[39;49m\u001b[43msendCommand\u001b[49m\u001b[43m(\u001b[49m\u001b[43m)\u001b[49m\n",
      "Cell \u001b[1;32mIn[39], line 66\u001b[0m, in \u001b[0;36mG9Driver.sendCommand\u001b[1;34m(self)\u001b[0m\n\u001b[0;32m     64\u001b[0m \u001b[38;5;28;01mdef\u001b[39;00m \u001b[38;5;21msendCommand\u001b[39m(\u001b[38;5;28mself\u001b[39m):\n\u001b[0;32m     65\u001b[0m     \u001b[38;5;66;03m# TODO: frontend topic : decided how we want to display the exception\u001b[39;00m\n\u001b[1;32m---> 66\u001b[0m     \u001b[38;5;28;01mif\u001b[39;00m \u001b[38;5;129;01mnot\u001b[39;00m \u001b[38;5;28;43mself\u001b[39;49m\u001b[38;5;241;43m.\u001b[39;49m\u001b[43mis_connected\u001b[49m\u001b[43m(\u001b[49m\u001b[43m)\u001b[49m:\n\u001b[0;32m     67\u001b[0m         \u001b[38;5;28;01mraise\u001b[39;00m \u001b[38;5;167;01mConnectionError\u001b[39;00m(\u001b[38;5;124m\"\u001b[39m\u001b[38;5;124mSeiral Port is Not Open.\u001b[39m\u001b[38;5;124m\"\u001b[39m)\n\u001b[0;32m     68\u001b[0m     header \u001b[38;5;241m=\u001b[39m \u001b[38;5;124mb\u001b[39m\u001b[38;5;124m'\u001b[39m\u001b[38;5;130;01m\\x40\u001b[39;00m\u001b[38;5;130;01m\\x00\u001b[39;00m\u001b[38;5;130;01m\\x00\u001b[39;00m\u001b[38;5;130;01m\\x0F\u001b[39;00m\u001b[38;5;130;01m\\x4B\u001b[39;00m\u001b[38;5;130;01m\\x03\u001b[39;00m\u001b[38;5;130;01m\\x4D\u001b[39;00m\u001b[38;5;130;01m\\x00\u001b[39;00m\u001b[38;5;130;01m\\x01\u001b[39;00m\u001b[38;5;124m'\u001b[39m \u001b[38;5;66;03m# could also use bytes.fromhex() method in future for simplicity\u001b[39;00m\n",
      "Cell \u001b[1;32mIn[39], line 283\u001b[0m, in \u001b[0;36mG9Driver.is_connected\u001b[1;34m(self)\u001b[0m\n\u001b[0;32m    281\u001b[0m     \u001b[38;5;28mself\u001b[39m\u001b[38;5;241m.\u001b[39misConnected \u001b[38;5;241m=\u001b[39m \u001b[38;5;28;01mTrue\u001b[39;00m\n\u001b[0;32m    282\u001b[0m     \u001b[38;5;28;01mreturn\u001b[39;00m \u001b[38;5;28;01mTrue\u001b[39;00m\n\u001b[1;32m--> 283\u001b[0m \u001b[38;5;28;01mexcept\u001b[39;00m \u001b[43mserial\u001b[49m\u001b[38;5;241;43m.\u001b[39;49m\u001b[43mSerialException\u001b[49m:\n\u001b[0;32m    284\u001b[0m     \u001b[38;5;28;01mreturn\u001b[39;00m \u001b[38;5;28;01mFalse\u001b[39;00m\n",
      "\u001b[1;31mAttributeError\u001b[0m: module 'serial' has no attribute 'SerialException'"
     ]
    }
   ],
   "source": [
    "\n",
    "# _.response()\n",
    "_.sendCommand()\n"
   ]
  },
  {
   "cell_type": "code",
   "execution_count": null,
   "metadata": {},
   "outputs": [],
   "source": [
    "temp = b'?\\x00\\x14\\xac?\\x00\\x14\\xac?\\x00\\x14\\xa0?\\x00\\x14\\xa0?\\x00\\x14\\xa0?\\x00\\x14\\xa0?\\x00\\x14\\xa0?\\x00\\x14\\x9a?\\x00\\x14\\x9a\\x13\\x00\\x14\\x9a\\x06\\x00\\x14\\x9a\\x01\\x00\\x14\\x9a\\x01\\x00\\x14\\x9a\\x06\\x00\\x14\\x9a\\x04\\x00\\x14\\x9a\\x01\\x00\\x14\\x9a\\x06\\x00\\x14p\\x01\\x00\\x14p\\x06\\x00\\x14p\\x06\\x00\\x14^'\n",
    "temp[40:]"
   ]
  },
  {
   "cell_type": "code",
   "execution_count": null,
   "metadata": {},
   "outputs": [],
   "source": [
    "len(b'\\x06\\x00\\x14\\x9a\\x01\\x00\\x14\\x9a\\x01\\x00\\x14\\x9a\\x06\\x00\\x14\\x9a\\x04\\x00\\x14\\x9a\\x01\\x00\\x14\\x9a\\x06\\x00\\x14p\\x01\\x00\\x14p\\x06\\x00\\x14p\\x06\\x00\\x14^')"
   ]
  },
  {
   "cell_type": "code",
   "execution_count": null,
   "metadata": {},
   "outputs": [],
   "source": [
    "_ = res[21:27]\n",
    "len(_) == 6"
   ]
  },
  {
   "cell_type": "code",
   "execution_count": 17,
   "metadata": {},
   "outputs": [],
   "source": []
  },
  {
   "cell_type": "code",
   "execution_count": 60,
   "metadata": {},
   "outputs": [],
   "source": [
    "usStatus = {\n",
    "    9: \"Output Power Supply Error Flag\",\n",
    "    10: \"Safety I/O Terminal Error Flag\",\n",
    "    13: \"Function Block Error Flag\"\n",
    "}\n",
    "\n",
    "\n",
    "# rn am hoping that only one of the error flags can be set at a time\n",
    "def unit_state_error(data):\n",
    "    if len(data) != 2:\n",
    "        raise ValueError(f\"Expected 2 bytes, but received {len(data)}.\")\n",
    "    \n",
    "    bits = bytes_to_binary(data)\n",
    "    print(bits, \"      \", bits[-1])\n",
    "\n",
    "    if bits[-1] == \"0\":\n",
    "        raise ValueError(f\"Unit State Error: Normal Operation Error Flag (bit 0)\")\n",
    "    \n",
    "    for k in usStatus.keys():\n",
    "        if bits[-(k + 1)] == \"1\":\n",
    "            raise ValueError(f\"Unit State Error: {usStatus[k]} (bit {k})\")\n",
    "\n",
    "    \n",
    "\n",
    "    \n",
    "    # # if er in usStatus:\n",
    "    # #     raise ValueError(f\"Unit State Error: {usStatus[er]} (code {er})\")\n",
    "    # return True\n",
    "\n",
    "# helper function to convert bytes to bits for checking flags\n",
    "# not currently being used but many be helpful in the future for getting errors\n",
    "def bytes_to_binary(byte_string):\n",
    "    return ''.join(format(byte, '08b') for byte in byte_string)\n",
    "\n",
    "\n"
   ]
  },
  {
   "cell_type": "code",
   "execution_count": 61,
   "metadata": {},
   "outputs": [
    {
     "data": {
      "text/plain": [
       "'1'"
      ]
     },
     "execution_count": 61,
     "metadata": {},
     "output_type": "execute_result"
    }
   ],
   "source": [
    "bytes_to_binary(b'\\x00\\x01')[-1]"
   ]
  },
  {
   "cell_type": "code",
   "execution_count": 62,
   "metadata": {},
   "outputs": [
    {
     "name": "stdout",
     "output_type": "stream",
     "text": [
      "0000000000000001        1\n"
     ]
    }
   ],
   "source": [
    "okstat = b'\\x00\\x01'\n",
    "unit_state_error(okstat)\n"
   ]
  },
  {
   "cell_type": "code",
   "execution_count": 63,
   "metadata": {},
   "outputs": [
    {
     "name": "stdout",
     "output_type": "stream",
     "text": [
      "0000000000000000        0\n",
      "Unit State Error: Normal Operation Error Flag (bit 0)\n"
     ]
    }
   ],
   "source": [
    "notstat = b'\\x00\\x00'\n",
    "try:\n",
    "    unit_state_error(notstat)\n",
    "except ValueError as e:\n",
    "    print(e)"
   ]
  },
  {
   "cell_type": "code",
   "execution_count": 64,
   "metadata": {},
   "outputs": [
    {
     "name": "stdout",
     "output_type": "stream",
     "text": [
      "0000001000000001        1\n",
      "Unit State Error: Output Power Supply Error Flag (bit 9)\n"
     ]
    }
   ],
   "source": [
    "notstat2 = b'\\x02\\x01'\n",
    "try:\n",
    "    unit_state_error(notstat2)\n",
    "except ValueError as e:\n",
    "    print(e)"
   ]
  },
  {
   "cell_type": "code",
   "execution_count": 65,
   "metadata": {},
   "outputs": [
    {
     "name": "stdout",
     "output_type": "stream",
     "text": [
      "0000010000000001        1\n",
      "Unit State Error: Safety I/O Terminal Error Flag (bit 10)\n"
     ]
    }
   ],
   "source": [
    "notstat2 = b'\\x04\\x01'\n",
    "try:\n",
    "    unit_state_error(notstat2)\n",
    "except ValueError as e:\n",
    "    print(e)"
   ]
  },
  {
   "cell_type": "code",
   "execution_count": 66,
   "metadata": {},
   "outputs": [
    {
     "name": "stdout",
     "output_type": "stream",
     "text": [
      "0010000000000001        1\n",
      "Unit State Error: Function Block Error Flag (bit 13)\n"
     ]
    }
   ],
   "source": [
    "notstat2 = b'\\x20\\x01'\n",
    "try:\n",
    "    unit_state_error(notstat2)\n",
    "except ValueError as e:\n",
    "    print(e)"
   ]
  },
  {
   "cell_type": "code",
   "execution_count": 67,
   "metadata": {},
   "outputs": [
    {
     "data": {
      "text/plain": [
       "'0000000000000001'"
      ]
     },
     "execution_count": 67,
     "metadata": {},
     "output_type": "execute_result"
    }
   ],
   "source": [
    "bytes_to_binary(b'\\x00\\x01')"
   ]
  },
  {
   "cell_type": "code",
   "execution_count": 69,
   "metadata": {},
   "outputs": [
    {
     "data": {
      "text/plain": [
       "[0, 1, 3, 4, 5, 6, 7, 8, 9, 10, 11]"
      ]
     },
     "execution_count": 69,
     "metadata": {},
     "output_type": "execute_result"
    }
   ],
   "source": [
    "bits = []\n",
    "for i in range(12):\n",
    "    if \"0\" == bytes_to_binary(b'\\x00\\x01')[-i+1]:\n",
    "        bits.append(i)\n",
    "\n",
    "bits"
   ]
  },
  {
   "cell_type": "code",
   "execution_count": null,
   "metadata": {},
   "outputs": [],
   "source": []
  }
 ],
 "metadata": {
  "kernelspec": {
   "display_name": "Python 3",
   "language": "python",
   "name": "python3"
  },
  "language_info": {
   "codemirror_mode": {
    "name": "ipython",
    "version": 3
   },
   "file_extension": ".py",
   "mimetype": "text/x-python",
   "name": "python",
   "nbconvert_exporter": "python",
   "pygments_lexer": "ipython3",
   "version": "3.12.4"
  }
 },
 "nbformat": 4,
 "nbformat_minor": 2
}
